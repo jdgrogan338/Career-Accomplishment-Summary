{
 "cells": [
  {
   "cell_type": "markdown",
   "metadata": {},
   "source": [
    "# Career-Accomplishment-Summary\n",
    "\n",
    "## Loss Development Model - Damped Harmonic Oscilator\n",
    "### Over Damped: Cummulative Development $$Factor = 1-(C)e^{(-at)}-(1-C)e^{(-bt)}$$ \n",
    "### Under Damped: Cummulative Development  $$Factor =  1-(C)sin(at)e^{(-bt)}-cos(at)e^{(-bt)}$$ \n",
    "### Critically Damped: Cummulative Development $$Factor =  1-(C)te^{(-at)}-e^{(-at)}$$  \n",
    "\n",
    "<br>\n",
    "<br>\n",
    "<br>\n",
    "<br>\n",
    "\n",
    "## Amount of insurance model factors $$Factor(L) = \\frac{(e^{(1-e^{(\\frac{-L}{S}))}}-1)}{(e^{(1-e^{(\\frac{-L(b)}{S})})}-1)}$$\n",
    "## Deductibles by amount of insurance factors $$Factor(D|L) = (\\frac{(1-\\frac{(e^{(1-e^{(\\frac{-D}{S})})}-1)}{(e^{(1-e^{(\\frac{-L}{S})})}-1)})}{(1-\\frac{(e^{(1-e^{(\\frac{-D(b)}{S})})}-1)}{(e^{(1-e^{(\\frac{-L(b)}{S})})}-1)})})$$\n",
    "\n",
    "<br>\n",
    "<br>\n",
    "<br>\n",
    "<br>\n",
    "\n",
    "## Increased Limits Model\n",
    "### Occurance Limit = Claim Limit ex 500/500 or 500CSL\n",
    "#### $$ILF = e^{(1-e^{(\\frac{-L}{S})})}-1$$\n",
    "### Occurance Limit = 2xClaim Limit ex 250/500\n",
    "#### $$ILF = (e^{(1-e^{(\\frac{-2L}{S})})}-1) - (e^{(\\frac{-L}{S})}-e^{(\\frac{-2L}{S})})*(e^{(e^{(\\frac{-L}{S})}-e^{(\\frac{-2L}{S})})})$$\n",
    "### Occurance Limit = 3xClaim Limit ex 100/300\n",
    "###### $$ILF = (e^{(1-e^{(\\frac{-3L}{S})})}-1) - (e^{(\\frac{-L}{S})}-e^{(\\frac{-3L}{S})})*(e^{(e^{(\\frac{-L}{S})}-e^{(\\frac{-3L}{S})})}) + \\frac{1}{2}((e^{(\\frac{-L}{S})}-e^{(\\frac{-2L}{S})})^2)*(e^{(e^{({-L}{S})}-e^{({-2L}{S})})})$$\n",
    "\n",
    "<br>\n",
    "<br>\n",
    "<br>\n",
    "<br>\n",
    "\n",
    "## Homeowners Catastrophe Model (aggregate)\n",
    "### Mean of aggregate distribution = mean(f)*mean(s)\n",
    "#### $$mean(F)*mean(S) = E(F)*E(S) = \\frac{rp}{1-p}(\\alpha AOI)(\\Gamma(1+\\frac{1}{d})).$$\n",
    "#### Assume: \n",
    "#### The frequency follows a negative binomial distribution.\n",
    "#### The severity follows a weibull distribution - behaves like a fractal. \n",
    "### Variance of aggregate distribution \n",
    "###### $$Var(AggDist)= \\sum_{n=1}^{\\infty} (nE(S^2))+n(n-1)E(S)^2-2nE(S)(E(F)*E(S))+(E(F)*E(S))^2)\\binom{r+n-1}{n}p^n(1-p)^r.$$ \n",
    "#### Where:  \n",
    "#### E(S) = Mean of Severity distribution.\n",
    "#### E(S^2) = Second Moment of the Severity Distribution about the origin.\n",
    "#### n = number of events \n",
    "#### r = number of successes.\n",
    "\n",
    "<br>\n",
    "<br>\n",
    "<br>\n",
    "<br>\n",
    "\n",
    "## Price implementation model\n",
    "#### Many times we can only move toward the proposed from current due to disruption.\n",
    "#### The following optimizes it and assumes that the rates will be in effect for a year.  \n",
    "#### $$Filed Factor = \\frac{(PC)}{(C+(P-C)e^{(-\\alpha)})}$$\n",
    "\n",
    "<br>\n",
    "<br>\n",
    "<br>\n",
    "<br>\n"
   ]
  },
  {
   "cell_type": "code",
   "execution_count": null,
   "metadata": {},
   "outputs": [],
   "source": []
  },
  {
   "cell_type": "code",
   "execution_count": null,
   "metadata": {},
   "outputs": [],
   "source": []
  }
 ],
 "metadata": {
  "kernelspec": {
   "display_name": "Python 3",
   "language": "python",
   "name": "python3"
  },
  "language_info": {
   "codemirror_mode": {
    "name": "ipython",
    "version": 3
   },
   "file_extension": ".py",
   "mimetype": "text/x-python",
   "name": "python",
   "nbconvert_exporter": "python",
   "pygments_lexer": "ipython3",
   "version": "3.7.1"
  }
 },
 "nbformat": 4,
 "nbformat_minor": 2
}
